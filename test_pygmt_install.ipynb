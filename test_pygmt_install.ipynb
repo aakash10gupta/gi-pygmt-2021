{
 "cells": [
  {
   "cell_type": "markdown",
   "id": "postal-saying",
   "metadata": {},
   "source": [
    "# Test your PyGMT installation\n",
    "\n",
    "Please run the following code cell, which imports the PyGMT package and then prints some version information."
   ]
  },
  {
   "cell_type": "code",
   "execution_count": null,
   "id": "ranging-emergency",
   "metadata": {},
   "outputs": [],
   "source": [
    "import pygmt\n",
    "pygmt.show_versions()"
   ]
  },
  {
   "cell_type": "markdown",
   "id": "alternative-carnival",
   "metadata": {},
   "source": [
    "Please copy the output you receive and paste it into an email to me, Liam Toney (ldtoney@alaska.edu), with \"PyGMT\" in the subject line. I will provide you with a Zoom link for the course after receiving your email.\n",
    "\n",
    "---\n",
    "\n",
    "🚨 **If you recieve an error message:** Please double-check the install instructions, do some Googling, etc. — if you still don't have any luck, then email me your error message in full and I will try to help. 🚨"
   ]
  }
 ],
 "metadata": {
  "kernelspec": {
   "display_name": "Python 3",
   "language": "python",
   "name": "python3"
  },
  "language_info": {
   "codemirror_mode": {
    "name": "ipython",
    "version": 3
   },
   "file_extension": ".py",
   "mimetype": "text/x-python",
   "name": "python",
   "nbconvert_exporter": "python",
   "pygments_lexer": "ipython3",
   "version": "3.8.8"
  }
 },
 "nbformat": 4,
 "nbformat_minor": 5
}
